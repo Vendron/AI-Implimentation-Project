{
 "cells": [
  {
   "cell_type": "markdown",
   "source": [
    "# Setup"
   ],
   "metadata": {
    "collapsed": false
   },
   "id": "cce44fad00da8431"
  },
  {
   "cell_type": "code",
   "execution_count": 11,
   "id": "initial_id",
   "metadata": {
    "collapsed": true,
    "ExecuteTime": {
     "end_time": "2024-03-04T11:17:30.443313Z",
     "start_time": "2024-03-04T11:17:30.436891Z"
    }
   },
   "outputs": [],
   "source": [
    "import sys\n",
    "\n",
    "sys.path.append(\"..\")\n",
    "\n",
    "from data_loading import get_spam_dataset"
   ]
  },
  {
   "cell_type": "code",
   "outputs": [],
   "source": [
    "df = get_spam_dataset()"
   ],
   "metadata": {
    "collapsed": false,
    "ExecuteTime": {
     "end_time": "2024-03-04T11:17:31.097361Z",
     "start_time": "2024-03-04T11:17:30.476321Z"
    }
   },
   "id": "7b36c931890405a8",
   "execution_count": 12
  },
  {
   "cell_type": "markdown",
   "source": [
    "# Basic training of the model"
   ],
   "metadata": {
    "collapsed": false
   },
   "id": "c67ae2344cbf2635"
  },
  {
   "cell_type": "code",
   "outputs": [],
   "source": [
    "from sklearn.model_selection import train_test_split\n",
    "\n",
    "X_train, X_test, y_train, y_test = train_test_split(df['Body'], df['Label'], test_size=0.2, random_state=42)"
   ],
   "metadata": {
    "collapsed": false,
    "ExecuteTime": {
     "end_time": "2024-03-04T11:17:31.115998Z",
     "start_time": "2024-03-04T11:17:31.099126Z"
    }
   },
   "id": "53ce603b1b430162",
   "execution_count": 13
  },
  {
   "cell_type": "code",
   "outputs": [],
   "source": [
    "from sklearn.pipeline import make_pipeline\n",
    "from sklearn.feature_extraction.text import TfidfVectorizer\n",
    "from sklearn.naive_bayes import MultinomialNB\n",
    "\n",
    "model = make_pipeline(TfidfVectorizer(), MultinomialNB())\n",
    "model.fit(X_train, y_train)"
   ],
   "metadata": {
    "collapsed": false,
    "is_executing": true,
    "ExecuteTime": {
     "start_time": "2024-03-04T11:17:31.117851Z"
    }
   },
   "id": "88545729900f36cd",
   "execution_count": null
  },
  {
   "cell_type": "code",
   "outputs": [],
   "source": [
    "from sklearn.metrics import classification_report, accuracy_score\n",
    "\n",
    "predictions = model.predict(X_test)\n",
    "accuracy = accuracy_score(y_test, predictions)\n",
    "train_accuracy = accuracy_score(y_train, model.predict(X_train))\n",
    "report = classification_report(y_test, predictions)"
   ],
   "metadata": {
    "collapsed": false,
    "is_executing": true
   },
   "id": "3f553e4fc413fd5a",
   "execution_count": null
  },
  {
   "cell_type": "code",
   "outputs": [],
   "source": [
    "print(f'Test accuracy: {accuracy}')\n",
    "print(f'Train accuracy: {train_accuracy}')\n",
    "# print(report)"
   ],
   "metadata": {
    "collapsed": false,
    "is_executing": true
   },
   "id": "4c6e8561d5097a09",
   "execution_count": null
  },
  {
   "cell_type": "code",
   "outputs": [],
   "source": [],
   "metadata": {
    "collapsed": false,
    "is_executing": true
   },
   "id": "67731b25afafff35"
  }
 ],
 "metadata": {
  "kernelspec": {
   "display_name": "Python 3",
   "language": "python",
   "name": "python3"
  },
  "language_info": {
   "codemirror_mode": {
    "name": "ipython",
    "version": 2
   },
   "file_extension": ".py",
   "mimetype": "text/x-python",
   "name": "python",
   "nbconvert_exporter": "python",
   "pygments_lexer": "ipython2",
   "version": "2.7.6"
  }
 },
 "nbformat": 4,
 "nbformat_minor": 5
}
